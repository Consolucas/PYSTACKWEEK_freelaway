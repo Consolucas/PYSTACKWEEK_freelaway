{
 "cells": [
  {
   "cell_type": "markdown",
   "metadata": {},
   "source": [
    "_python manage.py startapp jobs_ - para criar o app jobs"
   ]
  },
  {
   "cell_type": "markdown",
   "metadata": {},
   "source": [
    "_python manage.py makemigrations_ - para criar um arquivo na pasta migrations, que traz todos os comandos para um banco, baseado nas classes"
   ]
  },
  {
   "cell_type": "markdown",
   "metadata": {},
   "source": [
    "_python manage.py migrate_ - para criar o banco com as instruções dadas acima"
   ]
  }
 ],
 "metadata": {
  "language_info": {
   "name": "python"
  },
  "orig_nbformat": 4
 },
 "nbformat": 4,
 "nbformat_minor": 2
}
