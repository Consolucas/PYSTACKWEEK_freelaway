{
 "cells": [
  {
   "cell_type": "markdown",
   "metadata": {},
   "source": [
    "instalando as bibliotecas necessárias"
   ]
  },
  {
   "cell_type": "code",
   "execution_count": null,
   "metadata": {},
   "outputs": [],
   "source": [
    "%pip install django\n",
    "%pip install pillow"
   ]
  },
  {
   "cell_type": "markdown",
   "metadata": {},
   "source": [
    "_python -m venv venv_ - criando o ambiente virtual"
   ]
  },
  {
   "cell_type": "markdown",
   "metadata": {},
   "source": [
    "_venv/Scripts/Activate_ - ativando ambiente virtual"
   ]
  },
  {
   "cell_type": "markdown",
   "metadata": {},
   "source": [
    "_Set-ExecutionPolicy -Scope CurrentUser -ExecutionPolicy RemoteSigned_ - caso dê algum problema na execução do código. Use o terminal como adm"
   ]
  },
  {
   "cell_type": "markdown",
   "metadata": {},
   "source": [
    "_django-admin startproject freelaway ._ - criando o projeto freelaway"
   ]
  },
  {
   "cell_type": "markdown",
   "metadata": {},
   "source": [
    "_python manage.py runserver_ - dar inicio ao server"
   ]
  },
  {
   "cell_type": "markdown",
   "metadata": {},
   "source": [
    "_python manage.py startapp autenticacao_ - criando o app autenticacao\n"
   ]
  },
  {
   "cell_type": "markdown",
   "metadata": {},
   "source": [
    "_python manage.py migrate_ - criando o banco de dados"
   ]
  },
  {
   "cell_type": "markdown",
   "metadata": {},
   "source": [
    "_python manage.py createsuperuser_ - criando usuario administrador"
   ]
  }
 ],
 "metadata": {
  "interpreter": {
   "hash": "dea5d8f8cc29cf9e16293dbdf8747b85e5f69ab66d8365066b488317c9976378"
  },
  "kernelspec": {
   "display_name": "Python 3.10.2 64-bit",
   "language": "python",
   "name": "python3"
  },
  "language_info": {
   "codemirror_mode": {
    "name": "ipython",
    "version": 3
   },
   "file_extension": ".py",
   "mimetype": "text/x-python",
   "name": "python",
   "nbconvert_exporter": "python",
   "pygments_lexer": "ipython3",
   "version": "3.10.2"
  },
  "orig_nbformat": 4
 },
 "nbformat": 4,
 "nbformat_minor": 2
}
